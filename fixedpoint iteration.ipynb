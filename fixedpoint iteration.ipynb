{
 "cells": [
  {
   "cell_type": "markdown",
   "id": "e258fc72-2376-44b6-afdd-949863b98564",
   "metadata": {},
   "source": [
    "Printing the value of cos(x) by using the range function."
   ]
  },
  {
   "cell_type": "code",
   "execution_count": 7,
   "id": "359d99d2-cd5c-4233-bf9e-4d4d6724514f",
   "metadata": {},
   "outputs": [
    {
     "name": "stdout",
     "output_type": "stream",
     "text": [
      "0.7390851332151607\n"
     ]
    }
   ],
   "source": [
    "import math\n",
    "x=0\n",
    "\n",
    "for i in range(100):\n",
    "    x=math.cos(x)\n",
    "print(x)    \n",
    "    \n",
    "    "
   ]
  },
  {
   "cell_type": "markdown",
   "id": "09256e29-eb72-4fe0-b3d2-dc6adb724cd9",
   "metadata": {},
   "source": [
    "Calculating the value of cos(x) by setting a tolerance value and also using the count for counting the number of iterations with simple x- temp."
   ]
  },
  {
   "cell_type": "code",
   "execution_count": null,
   "id": "34fad4d3-a2eb-45d4-992c-adce598ace4a",
   "metadata": {},
   "outputs": [],
   "source": [
    "count=0\n",
    "Tol=0.00001\n",
    "temp=0\n",
    "x=10\n",
    "while ( abs(x-temp)> Tol):\n",
    "    x=temp\n",
    "    temp=math.cos(x)\n",
    "    count=count+1\n",
    "print(x)\n",
    "print(count)"
   ]
  },
  {
   "cell_type": "markdown",
   "id": "16cd9aa9-d15c-4528-b0ee-6b113d9e6b01",
   "metadata": {},
   "source": [
    "Here we are taking the temp as 1-x**3 as formula and tolerannce we are setting to 0.001"
   ]
  },
  {
   "cell_type": "code",
   "execution_count": null,
   "id": "a51562f1-7c8a-4777-afbe-61f31ec33ee2",
   "metadata": {},
   "outputs": [],
   "source": [
    "count=0\n",
    "Tol=0.001\n",
    "temp=0\n",
    "x=1\n",
    "while ( abs(x-temp)> Tol):\n",
    "    x=temp\n",
    "    temp=1-x**3\n",
    "    count=count+1\n",
    "    print(x)\n",
    "print(count)"
   ]
  },
  {
   "cell_type": "markdown",
   "id": "52266096-93cb-49e7-b1b1-1fc897d35849",
   "metadata": {},
   "source": [
    "Overhere in this code we are using the formula (1-x)**0.33 and setting value of tolerance to 0.001"
   ]
  },
  {
   "cell_type": "code",
   "execution_count": null,
   "id": "89f4b534-e440-462a-8713-6c7f4a6af8b5",
   "metadata": {},
   "outputs": [],
   "source": [
    "count=0\n",
    "Tol=0.001\n",
    "temp=0\n",
    "x=1\n",
    "while ( abs(x-temp)> Tol):\n",
    "    x=temp\n",
    "    temp=(1-x)**0.33\n",
    "    count=count+1\n",
    "    print(x)\n",
    "print(count)"
   ]
  }
 ],
 "metadata": {
  "kernelspec": {
   "display_name": "Python 3 (ipykernel)",
   "language": "python",
   "name": "python3"
  },
  "language_info": {
   "codemirror_mode": {
    "name": "ipython",
    "version": 3
   },
   "file_extension": ".py",
   "mimetype": "text/x-python",
   "name": "python",
   "nbconvert_exporter": "python",
   "pygments_lexer": "ipython3",
   "version": "3.12.4"
  }
 },
 "nbformat": 4,
 "nbformat_minor": 5
}
