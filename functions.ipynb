{
 "cells": [
  {
   "cell_type": "code",
   "execution_count": 6,
   "id": "b1f6430c-515e-4600-9ab6-a175757266fc",
   "metadata": {},
   "outputs": [
    {
     "name": "stdout",
     "output_type": "stream",
     "text": [
      "9\n"
     ]
    }
   ],
   "source": [
    "def add2(a,b):\n",
    "    return a+b\n",
    "print (add2(4,5))    \n",
    "    "
   ]
  },
  {
   "cell_type": "markdown",
   "id": "3fa0436f-8de8-42b6-8aef-b314764d2d54",
   "metadata": {},
   "source": [
    "Generate a list L of 100 random integers, taking integer k from the user ."
   ]
  },
  {
   "cell_type": "code",
   "execution_count": 24,
   "id": "bf97a072-64c6-4697-a60f-f641d666e7c3",
   "metadata": {},
   "outputs": [
    {
     "name": "stdin",
     "output_type": "stream",
     "text": [
      "enter a no 50\n"
     ]
    },
    {
     "name": "stdout",
     "output_type": "stream",
     "text": [
      "[100, 152, 214, 314, 17, 302, 220, 351, 38, 88, 57, 422, 63, 120, 350, 391, 420, 313, 11, 123, 380, 322, 162, 288, 123, 58, 387, 101, 164, 245, 126, 339, 128, 341, 135, 455, 393, 36, 215, 461, 441, 408, 229, 294, 466, 479, 256, 480, 226, 275, 440, 290, 410, 478, 500, 46, 329, 208, 222, 217, 296, 290, 295, 413, 369, 156, 15, 485, 171, 483, 282, 63, 410, 110, 106, 447, 82, 118, 98, 210, 401, 68, 147, 137, 496, 109, 461, 88, 189, 55, 145, 250, 495, 20, 71, 175, 293, 98, 379, 321]\n"
     ]
    }
   ],
   "source": [
    "import random\n",
    "L=[]\n",
    "k=int(input(\"enter a no\"))\n",
    "\n",
    "for x in range(100):\n",
    "    L.append(random.randint(1,500))\n",
    "print(L)"
   ]
  },
  {
   "cell_type": "code",
   "execution_count": 22,
   "id": "777f4406-6f12-42fe-ae19-83066923ae56",
   "metadata": {},
   "outputs": [],
   "source": [
    "def findkinL(k,L):\n",
    "    for index,value in enumerate(L):\n",
    "        if(value==k):\n",
    "            return index\n",
    "\n",
    "    return None\n",
    "   "
   ]
  },
  {
   "cell_type": "code",
   "execution_count": 29,
   "id": "2c025154-abfe-47db-b1e2-2112e1e7dc06",
   "metadata": {},
   "outputs": [
    {
     "name": "stdout",
     "output_type": "stream",
     "text": [
      "[132, 39, 166, 467, 394, 216, 287, 79, 441, 49, 492, 328, 61, 36, 88, 1, 235, 374, 337, 484, 168, 439, 198, 458, 148, 155, 101, 356, 459, 1, 49, 60, 466, 141, 420, 402, 182, 452, 9, 110, 133, 115, 449, 94, 81, 256, 412, 494, 30, 266, 81, 65, 293, 290, 41, 285, 405, 421, 143, 193, 495, 263, 173, 237, 80, 399, 377, 305, 142, 117, 410, 35, 329, 479, 134, 168, 38, 280, 167, 279, 348, 7, 9, 318, 442, 39, 274, 157, 325, 488, 93, 325, 32, 224, 15, 340, 189, 322, 337, 231]\n"
     ]
    }
   ],
   "source": [
    " print(L)"
   ]
  },
  {
   "cell_type": "code",
   "execution_count": 23,
   "id": "64616cd6-7837-4d90-8ff1-317298ee367b",
   "metadata": {},
   "outputs": [
    {
     "name": "stdin",
     "output_type": "stream",
     "text": [
      "enter a no 9\n"
     ]
    },
    {
     "name": "stdout",
     "output_type": "stream",
     "text": [
      "None\n"
     ]
    }
   ],
   "source": [
    "k=int(input(\"enter a no\"))\n",
    "i= findkinL(k,L)\n",
    "print(i)"
   ]
  },
  {
   "cell_type": "code",
   "execution_count": 13,
   "id": "bbc054ef-c0a2-4646-808c-3830b96b9239",
   "metadata": {},
   "outputs": [],
   "source": [
    "def meaninL(L):\n",
    "    total=0\n",
    "    for value in L:\n",
    "        total= total +value\n",
    "    return total/len(L)"
   ]
  },
  {
   "cell_type": "code",
   "execution_count": 14,
   "id": "8d4ebf95-ceec-4eba-b5b9-4fcee2772099",
   "metadata": {},
   "outputs": [
    {
     "name": "stdout",
     "output_type": "stream",
     "text": [
      "268.98\n"
     ]
    }
   ],
   "source": [
    "print (meaninL(L))"
   ]
  },
  {
   "cell_type": "markdown",
   "id": "26965b59-5bd5-4ff5-b63d-ca38fef1427a",
   "metadata": {},
   "source": [
    "standard deviation is a measure of the amount of variation or dispersion in a set of values.It tells you how spread out the values in a dataset are around the mean(average)."
   ]
  },
  {
   "cell_type": "code",
   "execution_count": 19,
   "id": "62b76312-4913-4e28-a154-c35338660c19",
   "metadata": {},
   "outputs": [
    {
     "name": "stdout",
     "output_type": "stream",
     "text": [
      "130.97094754181177\n"
     ]
    }
   ],
   "source": [
    "def std_dev(L):\n",
    "    u= meaninL(L)\n",
    "    total=0\n",
    "    for value in L:\n",
    "        total= total + (value-u)**2 \n",
    "    return (total/len(L))**0.5\n",
    "print(std_dev(L))    \n",
    "    \n",
    "    \n",
    "        \n",
    "    \n"
   ]
  },
  {
   "cell_type": "code",
   "execution_count": null,
   "id": "edc0e965-c66f-4be9-b2fb-c23dff044612",
   "metadata": {},
   "outputs": [],
   "source": [
    "median is element is such that half the value are less and half the value are greater."
   ]
  },
  {
   "cell_type": "code",
   "execution_count": 25,
   "id": "cb051dc8-cbc2-4be5-9e7c-f7f21093e2b1",
   "metadata": {},
   "outputs": [
    {
     "name": "stdout",
     "output_type": "stream",
     "text": [
      "237.0\n"
     ]
    }
   ],
   "source": [
    "def find_median(L):\n",
    "    L.sort()\n",
    "    n=len(L)\n",
    "    if n % 2 == 1:\n",
    "        median =L[n//2]\n",
    "    else:\n",
    "        median =(L[n//2-1] + L[n//2])/2\n",
    "    return median       \n",
    "print(find_median(L))"
   ]
  },
  {
   "cell_type": "markdown",
   "id": "be8b0b54-7853-4480-8cf5-c06b7353f064",
   "metadata": {},
   "source": [
    " Mode is the value that appears most frequently in a list. "
   ]
  },
  {
   "cell_type": "code",
   "execution_count": 26,
   "id": "9a2569c2-7cd1-4cfe-bf88-6998e62da394",
   "metadata": {},
   "outputs": [
    {
     "name": "stdout",
     "output_type": "stream",
     "text": [
      "[63, 88, 98, 123, 290, 410, 461]\n"
     ]
    }
   ],
   "source": [
    "from collections import Counter\n",
    "def find_mode(L):\n",
    "    count = Counter(L)\n",
    "    max_freq = max(count.values())\n",
    "    mode = [k for k, v in count.items() if v== max_freq]\n",
    "    return mode\n",
    "print(find_mode(L))    "
   ]
  }
 ],
 "metadata": {
  "kernelspec": {
   "display_name": "Python 3 (ipykernel)",
   "language": "python",
   "name": "python3"
  },
  "language_info": {
   "codemirror_mode": {
    "name": "ipython",
    "version": 3
   },
   "file_extension": ".py",
   "mimetype": "text/x-python",
   "name": "python",
   "nbconvert_exporter": "python",
   "pygments_lexer": "ipython3",
   "version": "3.12.4"
  }
 },
 "nbformat": 4,
 "nbformat_minor": 5
}
