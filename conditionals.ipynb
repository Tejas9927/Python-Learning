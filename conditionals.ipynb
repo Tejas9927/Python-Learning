{
 "cells": [
  {
   "cell_type": "code",
   "execution_count": 1,
   "id": "38e9ce9d-6ee6-4e3d-8374-adcac2454035",
   "metadata": {},
   "outputs": [
    {
     "name": "stdout",
     "output_type": "stream",
     "text": [
      "8\n"
     ]
    }
   ],
   "source": [
    "#addition\n",
    "a = 5\n",
    "b = 3\n",
    "c = a + b\n",
    "print(c)"
   ]
  },
  {
   "cell_type": "markdown",
   "id": "7dbc05db-f591-40fb-9d61-2541e80ee02e",
   "metadata": {},
   "source": [
    "### Check if a given number is even or odd \n",
    "We are using %(mod operator) and we are using divide by 2 , if its divisible by 2 and if the remainder is zero then its a even number or else its a odd number.\n"
   ]
  },
  {
   "cell_type": "code",
   "execution_count": null,
   "id": "b777be79-4999-4d20-9772-ed6249361e48",
   "metadata": {},
   "outputs": [],
   "source": [
    "#Even/odd condition\n",
    "a=int(input(\"Enter a No.\"))\n",
    "m = a % 2\n",
    "if(m == 0):\n",
    "  print(\"no is even\")\n",
    "else :\n",
    "  print(\"no is odd\")"
   ]
  },
  {
   "cell_type": "markdown",
   "id": "a1a532dd-eaa8-4b46-b547-dce99d2617a6",
   "metadata": {},
   "source": [
    "### check if x is greater than y or vice versa.\n",
    "In this code we are using if condition and comparing the values of x and y , if x is greater than y then we print x is greater than y and we are also using elif if both of them are equal and finally we are using else if y is greater than x.\n"
   ]
  },
  {
   "cell_type": "code",
   "execution_count": 6,
   "id": "7e7e05f4-3b93-4896-933d-f98888fa17fa",
   "metadata": {},
   "outputs": [
    {
     "name": "stdout",
     "output_type": "stream",
     "text": [
      "y is greater than x\n"
     ]
    }
   ],
   "source": [
    "#max/min\n",
    "x = 20\n",
    "y = 40\n",
    "if(x>y) :\n",
    "  print(\"x is greater than y\")\n",
    "elif(x==y):\n",
    "  print(\"x is equal to y\")\n",
    "else :\n",
    "  print(\"y is greater than x\")"
   ]
  },
  {
   "cell_type": "markdown",
   "id": "c7491a2b-44b4-416c-af55-a535a40f74f5",
   "metadata": {},
   "source": [
    "### checking if a year is a leap year or not.\n",
    "In this code we are checking the condition by using mod operator first by 4, 100 and then by 400 and if the remainder is zero then its a leap year or else its not a leap year."
   ]
  },
  {
   "cell_type": "code",
   "execution_count": 8,
   "id": "ab6b9a78-e3f5-48b1-8e5a-f5bb947ef0f0",
   "metadata": {},
   "outputs": [
    {
     "name": "stdin",
     "output_type": "stream",
     "text": [
      "enter the year 2020\n"
     ]
    },
    {
     "name": "stdout",
     "output_type": "stream",
     "text": [
      "That the year is a leap year\n"
     ]
    }
   ],
   "source": [
    "a=int(input(\"enter the year\"))\n",
    "if( a % 4 !=0 or ( a % 4==0 and a % 100==0 and a % 400 !=0) ) :\n",
    "    print(\"year is not a leap year\")\n",
    "if( {a % 4==0 and a % 100!=0} or ( a % 4==0 and a % 100==0 and a % 400==0))  :\n",
    "  print(\"That the year is a leap year\")\n"
   ]
  },
  {
   "cell_type": "markdown",
   "id": "806647c4-b4cf-4a02-b2a8-78357c039374",
   "metadata": {},
   "source": [
    "### Check if the number is within a range \n",
    "In this code we are using three inputs a,b and c then we are using the if condition for comparing the values of a and b with c , if the value lies between a and b the number is within the range , or else it is not within the range. "
   ]
  },
  {
   "cell_type": "code",
   "execution_count": 16,
   "id": "56f17241-14b2-4927-ae36-6a756ccf5473",
   "metadata": {},
   "outputs": [
    {
     "name": "stdin",
     "output_type": "stream",
     "text": [
      "enter the starting number 7\n",
      "enter the last number 18\n",
      "enter any number 24\n"
     ]
    },
    {
     "name": "stdout",
     "output_type": "stream",
     "text": [
      "the number is not within the range 24\n"
     ]
    }
   ],
   "source": [
    "a=int(input(\"enter the starting number\"))\n",
    "b=int(input(\"enter the last number\")) \n",
    "c=int(input(\"enter any number\"))      \n",
    "if  (c>a and c<b):\n",
    "  print(\"the numbers is within the range\",c )\n",
    "else:\n",
    "    print(\"the number is not within the range\",c)"
   ]
  },
  {
   "cell_type": "markdown",
   "id": "3e980050-05fb-40f2-afbb-c15ad86919d2",
   "metadata": {},
   "source": [
    "### Check if the number is divisible by 3\n",
    "In this we take a input as x and use the mod operator and divide it by 3 and if the remainder is zero then its divisible by 3 or else its not divisible by 3."
   ]
  },
  {
   "cell_type": "code",
   "execution_count": 18,
   "id": "2c479e64-3f01-45ae-a49b-13488154f75b",
   "metadata": {},
   "outputs": [
    {
     "name": "stdin",
     "output_type": "stream",
     "text": [
      "enter a number 7\n"
     ]
    },
    {
     "name": "stdout",
     "output_type": "stream",
     "text": [
      "the number is not divisible by 3\n"
     ]
    }
   ],
   "source": [
    "x=int(input(\"enter a number\"))\n",
    "if ( x % 3==0):\n",
    "    print(\"the number is divisble by 3\")\n",
    "else:\n",
    "    print(\"the number is not divisible by 3\")\n",
    "      "
   ]
  },
  {
   "cell_type": "markdown",
   "id": "e3368177-f96e-4b22-b96b-9843488ad39f",
   "metadata": {},
   "source": [
    "### check if the number is divisible by 3 or 5 \n",
    "In this code we take input as x and use the mod operator for both conditions 3 and 5 if the remainder is zero by either of the condition then we print it is divisible by 3 or 5 or else the number is not divisible by 3 or 5."
   ]
  },
  {
   "cell_type": "code",
   "execution_count": 21,
   "id": "759095a0-c5b0-4087-8f71-fe0605dd3505",
   "metadata": {},
   "outputs": [
    {
     "name": "stdin",
     "output_type": "stream",
     "text": [
      "enter a number 11\n"
     ]
    },
    {
     "name": "stdout",
     "output_type": "stream",
     "text": [
      "the number is not divisible by 3 or 5\n"
     ]
    }
   ],
   "source": [
    "x= int(input(\"enter a number\"))\n",
    "if ( x % 3==0 or x % 5==0) :\n",
    "    print(\"the number is divisble by 3 or 5\")\n",
    "else:\n",
    "    print(\"the number is not divisible by 3 or 5\")"
   ]
  },
  {
   "cell_type": "markdown",
   "id": "a40d5e14-d588-4068-9580-0c0b931a18f4",
   "metadata": {},
   "source": [
    "### check if the number is divisible by 3 and 5 .\n",
    "In this code we take input as x and use the mod operator for both the conditions 3 and 5 if the remainder is zero for both the condistions then the number is divisble by 3 and 5."
   ]
  },
  {
   "cell_type": "code",
   "execution_count": 25,
   "id": "05ae2cc0-6dee-4b3b-a56f-7264fe582dce",
   "metadata": {},
   "outputs": [
    {
     "name": "stdin",
     "output_type": "stream",
     "text": [
      "enter a number 27\n"
     ]
    },
    {
     "name": "stdout",
     "output_type": "stream",
     "text": [
      "the number is not divisible by 3 and 5\n"
     ]
    }
   ],
   "source": [
    "x= int(input(\"enter a number\"))\n",
    "if ( x % 3==0 and x % 5==0) :\n",
    "    print(\"the number is divisble by 3 and 5\")\n",
    "else:\n",
    "    print(\"the number is not divisible by 3 and 5\")"
   ]
  },
  {
   "cell_type": "markdown",
   "id": "7fc998fc-f543-4eac-b67c-49c8776c9327",
   "metadata": {},
   "source": [
    "### check if the number is divisible by 3 or 5 but not by 4\n",
    "In this code we take input as x and check the condition for 3 or 5 and 4 if the conditions satifies then we print the number is divisble by 3 or 5 but not 4 or else we print false."
   ]
  },
  {
   "cell_type": "code",
   "execution_count": 37,
   "id": "1f231b43-9fa1-4332-a2ce-494a118b7a27",
   "metadata": {},
   "outputs": [
    {
     "name": "stdin",
     "output_type": "stream",
     "text": [
      "enter a number 60\n"
     ]
    },
    {
     "name": "stdout",
     "output_type": "stream",
     "text": [
      "false\n"
     ]
    }
   ],
   "source": [
    "x= int(input(\"enter a number\"))\n",
    "if ( (x % 3==0 or x % 5==0) and x % 4 !=0) :\n",
    "    print(\"the number is divisble by 3 or 5 and not divisible by 4\")\n",
    "else:\n",
    "    print(\"false\")"
   ]
  },
  {
   "cell_type": "markdown",
   "id": "f5774c04-186d-46b6-bfcd-50221e795254",
   "metadata": {},
   "source": [
    "### Convert seconds into hours minutes and seconds\n",
    "we take x as input and provide hours and divide it by 3600 to get the divisor for hours and minutes and for seconds we use mod operator."
   ]
  },
  {
   "cell_type": "code",
   "execution_count": 38,
   "id": "8ec85679-c0d5-49d4-ac32-a31e970d1191",
   "metadata": {},
   "outputs": [
    {
     "name": "stdin",
     "output_type": "stream",
     "text": [
      "enter the number of seconds 5400\n"
     ]
    },
    {
     "name": "stdout",
     "output_type": "stream",
     "text": [
      "1 30 0\n"
     ]
    }
   ],
   "source": [
    "x=int(input(\"enter the number of seconds\"))\n",
    "hours= x // 3600\n",
    "minutes= (x % 3600) //60\n",
    "seconds= x % 60 \n",
    "print(hours,minutes,seconds)"
   ]
  },
  {
   "cell_type": "markdown",
   "id": "e434ea11-df89-4751-ae22-4a279b0fc2fc",
   "metadata": {},
   "source": [
    "### convert hours minutes and seconds into seconds.\n",
    "Here we declare hours , minutes and seconds as x then calculate total_seconds by providing the formula to convert into seconds."
   ]
  },
  {
   "cell_type": "code",
   "execution_count": 51,
   "id": "eda8799b-27de-41ff-ab30-d375192f9b3e",
   "metadata": {},
   "outputs": [
    {
     "name": "stdin",
     "output_type": "stream",
     "text": [
      "enter any value 2\n"
     ]
    },
    {
     "name": "stdout",
     "output_type": "stream",
     "text": [
      "the total number of seconds is  7322\n"
     ]
    }
   ],
   "source": [
    "hours= x\n",
    "minutes= x\n",
    "seconds= x \n",
    "total_seconds=( hours *3600) + (minutes *60) + seconds\n",
    "x=int(input(\"enter any value\"))\n",
    "print(\"the total number of seconds is \",total_seconds)"
   ]
  },
  {
   "cell_type": "code",
   "execution_count": null,
   "id": "604717cd-939f-4434-985e-197a398fd34b",
   "metadata": {},
   "outputs": [],
   "source": []
  }
 ],
 "metadata": {
  "kernelspec": {
   "display_name": "Python 3 (ipykernel)",
   "language": "python",
   "name": "python3"
  },
  "language_info": {
   "codemirror_mode": {
    "name": "ipython",
    "version": 3
   },
   "file_extension": ".py",
   "mimetype": "text/x-python",
   "name": "python",
   "nbconvert_exporter": "python",
   "pygments_lexer": "ipython3",
   "version": "3.12.4"
  }
 },
 "nbformat": 4,
 "nbformat_minor": 5
}
