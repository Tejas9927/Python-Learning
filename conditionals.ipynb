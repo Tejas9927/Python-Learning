{
 "cells": [
  {
   "cell_type": "code",
   "execution_count": 1,
   "id": "38e9ce9d-6ee6-4e3d-8374-adcac2454035",
   "metadata": {},
   "outputs": [
    {
     "name": "stdout",
     "output_type": "stream",
     "text": [
      "8\n"
     ]
    }
   ],
   "source": [
    "#addition\n",
    "a = 5\n",
    "b = 3\n",
    "c = a + b\n",
    "print(c)"
   ]
  },
  {
   "cell_type": "markdown",
   "id": "7dbc05db-f591-40fb-9d61-2541e80ee02e",
   "metadata": {},
   "source": [
    "### Check if a given number is even or odd \n",
    "We are using %(mod operator) and we are using divide by 2 , if its divisible by 2 and if the remainder is zero then its a even number or else its a odd number.\n"
   ]
  },
  {
   "cell_type": "code",
   "execution_count": null,
   "id": "b777be79-4999-4d20-9772-ed6249361e48",
   "metadata": {},
   "outputs": [],
   "source": [
    "#Even/odd condition\n",
    "a=int(input(\"Enter a No.\"))\n",
    "m = a % 2\n",
    "if(m == 0):\n",
    "  print(\"no is even\")\n",
    "else :\n",
    "  print(\"no is odd\")"
   ]
  },
  {
   "cell_type": "markdown",
   "id": "a1a532dd-eaa8-4b46-b547-dce99d2617a6",
   "metadata": {},
   "source": [
    "### check if x is greater than y or vice versa.\n",
    "In this code we are using if condition and comparing the values of x and y , if x is greater than y then we print x is greater than y and we are also using elif if both of them are equal and finally we are using else if y is greater than x.\n"
   ]
  },
  {
   "cell_type": "code",
   "execution_count": 6,
   "id": "7e7e05f4-3b93-4896-933d-f98888fa17fa",
   "metadata": {},
   "outputs": [
    {
     "name": "stdout",
     "output_type": "stream",
     "text": [
      "y is greater than x\n"
     ]
    }
   ],
   "source": [
    "#max/min\n",
    "x = 20\n",
    "y = 40\n",
    "if(x>y) :\n",
    "  print(\"x is greater than y\")\n",
    "elif(x==y):\n",
    "  print(\"x is equal to y\")\n",
    "else :\n",
    "  print(\"y is greater than x\")"
   ]
  },
  {
   "cell_type": "markdown",
   "id": "c7491a2b-44b4-416c-af55-a535a40f74f5",
   "metadata": {},
   "source": [
    "### checking if a year is a leap year or not.\n",
    "In this code we are checking the condition by using mod operator first by 4, 100 and then by 400 and if the remainder is zero then its a leap year or else its not a leap year."
   ]
  },
  {
   "cell_type": "code",
   "execution_count": 8,
   "id": "ab6b9a78-e3f5-48b1-8e5a-f5bb947ef0f0",
   "metadata": {},
   "outputs": [
    {
     "name": "stdin",
     "output_type": "stream",
     "text": [
      "enter the year 2020\n"
     ]
    },
    {
     "name": "stdout",
     "output_type": "stream",
     "text": [
      "That the year is a leap year\n"
     ]
    }
   ],
   "source": [
    "a=int(input(\"enter the year\"))\n",
    "if( a % 4 !=0 or ( a % 4==0 and a % 100==0 and a % 400 !=0) ) :\n",
    "    print(\"year is not a leap year\")\n",
    "if( {a % 4==0 and a % 100!=0} or ( a % 4==0 and a % 100==0 and a % 400==0))  :\n",
    "  print(\"That the year is a leap year\")\n"
   ]
  },
  {
   "cell_type": "markdown",
   "id": "806647c4-b4cf-4a02-b2a8-78357c039374",
   "metadata": {},
   "source": [
    "### Check if the number is within a range \n",
    "In this code we are using three inputs a,b and c then we are using the if condition for comparing the values of a and b with c , if the value lies between a and b the number is within the range , or else it is not within the range. "
   ]
  },
  {
   "cell_type": "code",
   "execution_count": 16,
   "id": "56f17241-14b2-4927-ae36-6a756ccf5473",
   "metadata": {},
   "outputs": [
    {
     "name": "stdin",
     "output_type": "stream",
     "text": [
      "enter the starting number 7\n",
      "enter the last number 18\n",
      "enter any number 24\n"
     ]
    },
    {
     "name": "stdout",
     "output_type": "stream",
     "text": [
      "the number is not within the range 24\n"
     ]
    }
   ],
   "source": [
    "a=int(input(\"enter the starting number\"))\n",
    "b=int(input(\"enter the last number\")) \n",
    "c=int(input(\"enter any number\"))      \n",
    "if  (c>a and c<b):\n",
    "  print(\"the numbers is within the range\",c )\n",
    "else:\n",
    "    print(\"the number is not within the range\",c)"
   ]
  },
  {
   "cell_type": "code",
   "execution_count": null,
   "id": "2c479e64-3f01-45ae-a49b-13488154f75b",
   "metadata": {},
   "outputs": [],
   "source": []
  }
 ],
 "metadata": {
  "kernelspec": {
   "display_name": "Python 3 (ipykernel)",
   "language": "python",
   "name": "python3"
  },
  "language_info": {
   "codemirror_mode": {
    "name": "ipython",
    "version": 3
   },
   "file_extension": ".py",
   "mimetype": "text/x-python",
   "name": "python",
   "nbconvert_exporter": "python",
   "pygments_lexer": "ipython3",
   "version": "3.12.4"
  }
 },
 "nbformat": 4,
 "nbformat_minor": 5
}
