{
 "cells": [
  {
   "cell_type": "markdown",
   "id": "1d5c76c7-7159-4b7f-9a18-a153a74fc17b",
   "metadata": {},
   "source": [
    "###In this we are taking a fixed list and also declaring the value of x and then we are using the for loop and enumerate function to get the total. "
   ]
  },
  {
   "cell_type": "code",
   "execution_count": 1,
   "id": "99e22c2d-7b04-4c86-a729-d002c0c8ecb1",
   "metadata": {},
   "outputs": [
    {
     "name": "stdout",
     "output_type": "stream",
     "text": [
      "-98.4\n"
     ]
    }
   ],
   "source": [
    "a = [3.1, -1, 2.5, -3]\n",
    "x = 3.5\n",
    "total = 0\n",
    "for index,value in enumerate(a):\n",
    "    total = total + value * x**index\n",
    "print(total)    \n",
    "    "
   ]
  },
  {
   "cell_type": "markdown",
   "id": "8250c1ae-5952-45f7-bc1e-d985d6c8ffe5",
   "metadata": {},
   "source": [
    "###In this code we are starting from last value of list "
   ]
  },
  {
   "cell_type": "code",
   "execution_count": 27,
   "id": "4468ecfd-0529-4d3e-90fc-902369dc53f1",
   "metadata": {},
   "outputs": [
    {
     "name": "stdout",
     "output_type": "stream",
     "text": [
      "2.3752485712990448e+83\n"
     ]
    }
   ],
   "source": [
    "p = a[-1]\n",
    "for value in a[-2:0:-1]:\n",
    "    p = p*x + value\n",
    "    #print(value, p)\n",
    "p = p * x + a[0]\n",
    "print(p)\n"
   ]
  },
  {
   "cell_type": "markdown",
   "id": "33e9c7b7-85d3-42a1-a30e-aa335679f456",
   "metadata": {},
   "source": [
    "###In this we are using the random function and range funstion to generate the random 100 number of lists."
   ]
  },
  {
   "cell_type": "code",
   "execution_count": 25,
   "id": "5a310d1c-de8a-47f7-9c44-e9464b18c8cd",
   "metadata": {},
   "outputs": [
    {
     "name": "stdout",
     "output_type": "stream",
     "text": [
      "[0.8498489364442757, 0.7112931182638954, 0.028186362537739873, 0.8878060689068578, 0.2645255136256439, 0.3489325778492878, 0.4931631098300284, 0.28632996496173946, 0.17575047667359167, 0.4630829062125812, 0.039212462481934884, 0.7456151584681974, 0.8131899125281773, 0.3950872178090099, 0.31834884544662845, 0.5885835113974722, 0.2757066338667694, 0.5968904382949155, 0.9352107019165155, 0.02391175844438287, 0.806626617899372, 0.03435118142266713, 0.9676911612784941, 0.19387098809727232, 0.854156039699269, 0.3773664302270042, 0.21611391719154227, 0.1490596666624393, 0.5171144375791085, 0.48577969321589, 0.7682910541895611, 0.6025435999025119, 0.8461985041694633, 0.7909329322550864, 0.5179501695883422, 0.1506510750054566, 0.8990125567580067, 0.2061502746647963, 0.5647958703695264, 0.3828694588896663, 0.34256793420367626, 0.4010111210943723, 0.4267230386445162, 0.7804247654753734, 0.18731047866779926, 0.40808800396456535, 0.15422059168732816, 0.3184484294668083, 0.6571261507848035, 0.20414891897786602, 0.9742930679634568, 0.5032812903223036, 0.9838011287655906, 0.7233069600917383, 0.14525516213339984, 0.8499073882621644, 0.2546284663916186, 0.5495147997512706, 0.6073798434057988, 0.2604812795639153, 0.23381020202287628, 0.0010777814372695538, 0.6823741342722569, 0.18416653796883953, 0.07693635838689716, 0.36746219415731785, 0.8979526954986682, 0.7323701981716819, 0.32229986122773413, 0.42750210454210735, 0.9282689340747248, 0.9043279253662161, 0.33162928164138394, 0.7514396372827585, 0.559356265202158, 0.8385292839149459, 0.24825707091771998, 0.36507460671968217, 0.15724911481312887, 0.5604204545878628, 0.9258091248623498, 0.06928858862660181, 0.64407197547135, 0.4862079775665321, 0.6864117258563431, 0.1957628246778268, 0.018839190939285322, 0.4584421351799878, 0.35523601173897557, 0.06306413189326121, 0.38912794529621053, 0.9305127732880105, 0.46408424184592423, 0.9676996565897787, 0.027783938718692114, 0.631249120084804, 0.4052760371955959, 0.6171692679995159, 0.28615983701155856, 0.5227522114255733]\n"
     ]
    }
   ],
   "source": [
    "import math\n",
    "import random\n",
    "a= [random.random() for i in range (100)]\n",
    "print (a)"
   ]
  },
  {
   "cell_type": "code",
   "execution_count": 28,
   "id": "377e11d7-0138-46d8-82b5-29f823a68e93",
   "metadata": {},
   "outputs": [],
   "source": [
    "import math\n",
    "import random\n",
    "a = [random.random() for i in range (2000)]"
   ]
  },
  {
   "cell_type": "markdown",
   "id": "cf5d0563-8691-4a91-a038-353d78aa3d4c",
   "metadata": {},
   "source": [
    "###In this we are using the enumerate function for list  and  calculating the total with the help of index and value and putting it into the formula. "
   ]
  },
  {
   "cell_type": "code",
   "execution_count": 30,
   "id": "d0e288da-5d47-491c-b223-fcd2bdec2e32",
   "metadata": {},
   "outputs": [
    {
     "name": "stdout",
     "output_type": "stream",
     "text": [
      "54.46846253970128\n",
      "54.46846253970131\n"
     ]
    }
   ],
   "source": [
    "x= 0.99\n",
    "\n",
    "total = 0\n",
    "for index,value in enumerate(a):\n",
    "    total = total + value * x**index\n",
    "print(total)\n",
    "\n",
    "p = a[-1]\n",
    "for value in a[-2:0:-1]:\n",
    "    p = p*x + value\n",
    "    #print(value, p)\n",
    "p = p * x + a[0]\n",
    "print(p)\n"
   ]
  }
 ],
 "metadata": {
  "kernelspec": {
   "display_name": "Python 3 (ipykernel)",
   "language": "python",
   "name": "python3"
  },
  "language_info": {
   "codemirror_mode": {
    "name": "ipython",
    "version": 3
   },
   "file_extension": ".py",
   "mimetype": "text/x-python",
   "name": "python",
   "nbconvert_exporter": "python",
   "pygments_lexer": "ipython3",
   "version": "3.12.4"
  }
 },
 "nbformat": 4,
 "nbformat_minor": 5
}
